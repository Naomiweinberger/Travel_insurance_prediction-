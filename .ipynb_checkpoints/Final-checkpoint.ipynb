{
 "cells": [
  {
   "cell_type": "code",
   "execution_count": 88,
   "metadata": {},
   "outputs": [],
   "source": [
    "import pandas as pd\n",
    "import numpy as np\n",
    "np.random.seed(0)\n",
    "import matplotlib as plt \n",
    "import  csv\n",
    "from sklearn.datasets import make_classification\n",
    "from sklearn.neighbors import KNeighborsClassifier\n",
    "\n",
    "from sklearn.tree import DecisionTreeClassifier\n",
    "\n",
    "from sklearn.ensemble import RandomForestClassifier\n",
    "from sklearn.linear_model import LogisticRegression\n",
    "from sklearn.naive_bayes import GaussianNB\n",
    "from xgboost import XGBClassifier\n",
    "\n",
    "\n",
    "from sklearn.model_selection import train_test_split, GridSearchCV\n",
    "from sklearn.preprocessing import StandardScaler, PolynomialFeatures\n",
    "from sklearn.pipeline import Pipeline\n",
    "from model_code import run_model\n",
    "\n",
    "from sklearn.model_selection import cross_val_score\n",
    "from sklearn.compose import ColumnTransformer\n",
    "from sklearn.preprocessing import OneHotEncoder\n",
    "\n",
    "from sklearn.metrics import roc_curve, auc\n",
    "from sklearn.metrics import precision_score, recall_score, accuracy_score, f1_score\n",
    "from sklearn.metrics import confusion_matrix\n",
    "from sklearn.metrics import plot_confusion_matrix\n",
    "from sklearn.metrics import classification_report\n",
    "\n",
    "from sklearn import svm\n",
    "from sklearn import tree\n",
    "from sklearn import metrics\n",
    "\n",
    "\n",
    "from sklearn.metrics import accuracy_score"
   ]
  },
  {
   "cell_type": "code",
   "execution_count": 89,
   "metadata": {},
   "outputs": [
    {
     "data": {
      "text/html": [
       "<div>\n",
       "<style scoped>\n",
       "    .dataframe tbody tr th:only-of-type {\n",
       "        vertical-align: middle;\n",
       "    }\n",
       "\n",
       "    .dataframe tbody tr th {\n",
       "        vertical-align: top;\n",
       "    }\n",
       "\n",
       "    .dataframe thead th {\n",
       "        text-align: right;\n",
       "    }\n",
       "</style>\n",
       "<table border=\"1\" class=\"dataframe\">\n",
       "  <thead>\n",
       "    <tr style=\"text-align: right;\">\n",
       "      <th></th>\n",
       "      <th>Age</th>\n",
       "      <th>Employment Type</th>\n",
       "      <th>GraduateOrNot</th>\n",
       "      <th>AnnualIncome</th>\n",
       "      <th>FamilyMembers</th>\n",
       "      <th>ChronicDiseases</th>\n",
       "      <th>FrequentFlyer</th>\n",
       "      <th>EverTravelledAbroad</th>\n",
       "      <th>TravelInsurance</th>\n",
       "    </tr>\n",
       "  </thead>\n",
       "  <tbody>\n",
       "    <tr>\n",
       "      <th>0</th>\n",
       "      <td>31</td>\n",
       "      <td>Government Sector</td>\n",
       "      <td>Yes</td>\n",
       "      <td>400000</td>\n",
       "      <td>6</td>\n",
       "      <td>1</td>\n",
       "      <td>No</td>\n",
       "      <td>No</td>\n",
       "      <td>0</td>\n",
       "    </tr>\n",
       "    <tr>\n",
       "      <th>1</th>\n",
       "      <td>31</td>\n",
       "      <td>Private Sector/Self Employed</td>\n",
       "      <td>Yes</td>\n",
       "      <td>1250000</td>\n",
       "      <td>7</td>\n",
       "      <td>0</td>\n",
       "      <td>No</td>\n",
       "      <td>No</td>\n",
       "      <td>0</td>\n",
       "    </tr>\n",
       "    <tr>\n",
       "      <th>2</th>\n",
       "      <td>34</td>\n",
       "      <td>Private Sector/Self Employed</td>\n",
       "      <td>Yes</td>\n",
       "      <td>500000</td>\n",
       "      <td>4</td>\n",
       "      <td>1</td>\n",
       "      <td>No</td>\n",
       "      <td>No</td>\n",
       "      <td>1</td>\n",
       "    </tr>\n",
       "    <tr>\n",
       "      <th>3</th>\n",
       "      <td>28</td>\n",
       "      <td>Private Sector/Self Employed</td>\n",
       "      <td>Yes</td>\n",
       "      <td>700000</td>\n",
       "      <td>3</td>\n",
       "      <td>1</td>\n",
       "      <td>No</td>\n",
       "      <td>No</td>\n",
       "      <td>0</td>\n",
       "    </tr>\n",
       "    <tr>\n",
       "      <th>4</th>\n",
       "      <td>28</td>\n",
       "      <td>Private Sector/Self Employed</td>\n",
       "      <td>Yes</td>\n",
       "      <td>700000</td>\n",
       "      <td>8</td>\n",
       "      <td>1</td>\n",
       "      <td>Yes</td>\n",
       "      <td>No</td>\n",
       "      <td>0</td>\n",
       "    </tr>\n",
       "    <tr>\n",
       "      <th>5</th>\n",
       "      <td>25</td>\n",
       "      <td>Private Sector/Self Employed</td>\n",
       "      <td>No</td>\n",
       "      <td>1150000</td>\n",
       "      <td>4</td>\n",
       "      <td>0</td>\n",
       "      <td>No</td>\n",
       "      <td>No</td>\n",
       "      <td>0</td>\n",
       "    </tr>\n",
       "    <tr>\n",
       "      <th>6</th>\n",
       "      <td>31</td>\n",
       "      <td>Government Sector</td>\n",
       "      <td>Yes</td>\n",
       "      <td>1300000</td>\n",
       "      <td>4</td>\n",
       "      <td>0</td>\n",
       "      <td>No</td>\n",
       "      <td>No</td>\n",
       "      <td>0</td>\n",
       "    </tr>\n",
       "    <tr>\n",
       "      <th>7</th>\n",
       "      <td>31</td>\n",
       "      <td>Private Sector/Self Employed</td>\n",
       "      <td>Yes</td>\n",
       "      <td>1350000</td>\n",
       "      <td>3</td>\n",
       "      <td>0</td>\n",
       "      <td>Yes</td>\n",
       "      <td>Yes</td>\n",
       "      <td>1</td>\n",
       "    </tr>\n",
       "    <tr>\n",
       "      <th>8</th>\n",
       "      <td>28</td>\n",
       "      <td>Private Sector/Self Employed</td>\n",
       "      <td>Yes</td>\n",
       "      <td>1450000</td>\n",
       "      <td>6</td>\n",
       "      <td>1</td>\n",
       "      <td>Yes</td>\n",
       "      <td>Yes</td>\n",
       "      <td>1</td>\n",
       "    </tr>\n",
       "    <tr>\n",
       "      <th>9</th>\n",
       "      <td>33</td>\n",
       "      <td>Government Sector</td>\n",
       "      <td>Yes</td>\n",
       "      <td>800000</td>\n",
       "      <td>3</td>\n",
       "      <td>0</td>\n",
       "      <td>Yes</td>\n",
       "      <td>No</td>\n",
       "      <td>0</td>\n",
       "    </tr>\n",
       "  </tbody>\n",
       "</table>\n",
       "</div>"
      ],
      "text/plain": [
       "   Age               Employment Type GraduateOrNot  AnnualIncome  \\\n",
       "0   31             Government Sector           Yes        400000   \n",
       "1   31  Private Sector/Self Employed           Yes       1250000   \n",
       "2   34  Private Sector/Self Employed           Yes        500000   \n",
       "3   28  Private Sector/Self Employed           Yes        700000   \n",
       "4   28  Private Sector/Self Employed           Yes        700000   \n",
       "5   25  Private Sector/Self Employed            No       1150000   \n",
       "6   31             Government Sector           Yes       1300000   \n",
       "7   31  Private Sector/Self Employed           Yes       1350000   \n",
       "8   28  Private Sector/Self Employed           Yes       1450000   \n",
       "9   33             Government Sector           Yes        800000   \n",
       "\n",
       "   FamilyMembers  ChronicDiseases FrequentFlyer EverTravelledAbroad  \\\n",
       "0              6                1            No                  No   \n",
       "1              7                0            No                  No   \n",
       "2              4                1            No                  No   \n",
       "3              3                1            No                  No   \n",
       "4              8                1           Yes                  No   \n",
       "5              4                0            No                  No   \n",
       "6              4                0            No                  No   \n",
       "7              3                0           Yes                 Yes   \n",
       "8              6                1           Yes                 Yes   \n",
       "9              3                0           Yes                  No   \n",
       "\n",
       "   TravelInsurance  \n",
       "0                0  \n",
       "1                0  \n",
       "2                1  \n",
       "3                0  \n",
       "4                0  \n",
       "5                0  \n",
       "6                0  \n",
       "7                1  \n",
       "8                1  \n",
       "9                0  "
      ]
     },
     "execution_count": 89,
     "metadata": {},
     "output_type": "execute_result"
    }
   ],
   "source": [
    "df = pd.read_csv('TravelInsurancePrediction.csv')\n",
    "df.drop(df.columns[[0]], axis=1, inplace=True)\n",
    "df.head(10)"
   ]
  },
  {
   "cell_type": "code",
   "execution_count": 97,
   "metadata": {},
   "outputs": [
    {
     "name": "stdout",
     "output_type": "stream",
     "text": [
      "[[ 1.55473609 -1.55473609 -0.41452251 ... -0.05365604  1.38182856\n",
      "   1.6083866 ]\n",
      " [ 1.55473609 -1.55473609 -0.41452251 ...  0.7456513  -1.1034296\n",
      "  -0.62174107]\n",
      " [ 1.55473609 -1.55473609 -0.41452251 ...  0.47921552 -1.1034296\n",
      "  -0.62174107]\n",
      " ...\n",
      " [-0.64319598  0.64319598 -0.41452251 ... -1.11939916  0.13919948\n",
      "   1.6083866 ]\n",
      " [-0.64319598  0.64319598 -0.41452251 ...  0.7456513  -1.1034296\n",
      "  -0.62174107]\n",
      " [-0.64319598  0.64319598  2.41241424 ...  0.61243341 -0.48211506\n",
      "  -0.62174107]]\n",
      "[[-0.64319598  0.64319598 -0.41452251 ...  1.54495864  0.13919948\n",
      "   1.6083866 ]\n",
      " [ 1.55473609 -1.55473609 -0.41452251 ...  0.7456513   1.38182856\n",
      "   1.6083866 ]\n",
      " [-0.64319598  0.64319598 -0.41452251 ... -0.05365604 -1.1034296\n",
      "  -0.62174107]\n",
      " ...\n",
      " [-0.64319598  0.64319598 -0.41452251 ...  1.27852286 -1.72474414\n",
      "   1.6083866 ]\n",
      " [ 1.55473609 -1.55473609  2.41241424 ... -1.65227073  0.76051402\n",
      "  -0.62174107]\n",
      " [ 1.55473609 -1.55473609 -0.41452251 ... -0.05365604  0.76051402\n",
      "   1.6083866 ]]\n"
     ]
    }
   ],
   "source": [
    "X = df.iloc[:, :-1].values\n",
    "y = df.iloc[:, -1].values\n",
    "ct = ColumnTransformer(transformers=[('encoder', OneHotEncoder(), [1,2,6,7])], remainder='passthrough')\n",
    "X = np.array(ct.fit_transform(X))\n",
    "X_train, X_test, y_train, y_test = train_test_split(X, y, test_size = 0.2, random_state = 0)\n",
    "sc = StandardScaler()\n",
    "X_train = sc.fit_transform(X_train)\n",
    "X_test = sc.transform(X_test)\n",
    "print(X_train)\n",
    "print(X_test)"
   ]
  },
  {
   "cell_type": "markdown",
   "metadata": {},
   "source": [
    "Baseline models "
   ]
  },
  {
   "cell_type": "code",
   "execution_count": 100,
   "metadata": {},
   "outputs": [],
   "source": [
    "classifier_lr = LogisticRegression(random_state = 0)\n",
    "classifier_nb= GaussianNB()\n",
    "classifier_dt= DecisionTreeClassifier(random_state=0)\n",
    "classifier_knn= KNeighborsClassifier(n_neighbors=3)"
   ]
  },
  {
   "cell_type": "code",
   "execution_count": 96,
   "metadata": {},
   "outputs": [],
   "source": [
    "def run_model(model, X_train, X_test, y_train, y_test):\n",
    "    model.fit(X_train, y_train)\n",
    "\n",
    "    y_pred_train = model.predict(X_train)\n",
    "    y_pred_test = model.predict(X_test)    \n",
    "    cnf_matrix_test = confusion_matrix(y_test,  y_pred_test)\n",
    "\n",
    "    print('Confusion Matrix for Test Set:\\n', cnf_matrix_test)\n",
    "   \n",
    "    cnf_matrix_train = confusion_matrix(y_train,  y_pred_train)\n",
    "    print('Confusion Matrix for Train Set:\\n', cnf_matrix_train)\n",
    " \n",
    "    print('Classification Report for Test Set:\\n',classification_report(y_test , y_pred_test))\n",
    "    print('Classification Report for Train Set:\\n',classification_report(y_train, y_pred_train))\n",
    "    return model \n"
   ]
  },
  {
   "cell_type": "code",
   "execution_count": 82,
   "metadata": {},
   "outputs": [
    {
     "name": "stdout",
     "output_type": "stream",
     "text": [
      "Confusion Matrix for Test Set:\n",
      " [[234  26]\n",
      " [ 67  71]]\n",
      "Confusion Matrix for Train Set:\n",
      " [[941  76]\n",
      " [296 276]]\n",
      "Classification Report for Test Set:\n",
      "               precision    recall  f1-score   support\n",
      "\n",
      "           0       0.78      0.90      0.83       260\n",
      "           1       0.73      0.51      0.60       138\n",
      "\n",
      "    accuracy                           0.77       398\n",
      "   macro avg       0.75      0.71      0.72       398\n",
      "weighted avg       0.76      0.77      0.75       398\n",
      "\n",
      "Classification Report for Train Set:\n",
      "               precision    recall  f1-score   support\n",
      "\n",
      "           0       0.76      0.93      0.83      1017\n",
      "           1       0.78      0.48      0.60       572\n",
      "\n",
      "    accuracy                           0.77      1589\n",
      "   macro avg       0.77      0.70      0.72      1589\n",
      "weighted avg       0.77      0.77      0.75      1589\n",
      "\n"
     ]
    },
    {
     "data": {
      "text/plain": [
       "LogisticRegression(random_state=0)"
      ]
     },
     "execution_count": 82,
     "metadata": {},
     "output_type": "execute_result"
    }
   ],
   "source": [
    "run_model(classifier_lr,X_train, X_test, y_train, y_test)"
   ]
  },
  {
   "cell_type": "code",
   "execution_count": 83,
   "metadata": {},
   "outputs": [
    {
     "name": "stdout",
     "output_type": "stream",
     "text": [
      "Confusion Matrix for Test Set:\n",
      " [[206  54]\n",
      " [ 59  79]]\n",
      "Confusion Matrix for Train Set:\n",
      " [[859 158]\n",
      " [273 299]]\n",
      "Classification Report for Test Set:\n",
      "               precision    recall  f1-score   support\n",
      "\n",
      "           0       0.78      0.79      0.78       260\n",
      "           1       0.59      0.57      0.58       138\n",
      "\n",
      "    accuracy                           0.72       398\n",
      "   macro avg       0.69      0.68      0.68       398\n",
      "weighted avg       0.71      0.72      0.71       398\n",
      "\n",
      "Classification Report for Train Set:\n",
      "               precision    recall  f1-score   support\n",
      "\n",
      "           0       0.76      0.84      0.80      1017\n",
      "           1       0.65      0.52      0.58       572\n",
      "\n",
      "    accuracy                           0.73      1589\n",
      "   macro avg       0.71      0.68      0.69      1589\n",
      "weighted avg       0.72      0.73      0.72      1589\n",
      "\n"
     ]
    },
    {
     "data": {
      "text/plain": [
       "GaussianNB()"
      ]
     },
     "execution_count": 83,
     "metadata": {},
     "output_type": "execute_result"
    }
   ],
   "source": [
    "run_model(classifier_nb,X_train, X_test, y_train, y_test)"
   ]
  },
  {
   "cell_type": "code",
   "execution_count": 84,
   "metadata": {},
   "outputs": [
    {
     "name": "stdout",
     "output_type": "stream",
     "text": [
      "Confusion Matrix for Test Set:\n",
      " [[217  43]\n",
      " [ 51  87]]\n",
      "Confusion Matrix for Train Set:\n",
      " [[1003   14]\n",
      " [ 103  469]]\n",
      "Classification Report for Test Set:\n",
      "               precision    recall  f1-score   support\n",
      "\n",
      "           0       0.81      0.83      0.82       260\n",
      "           1       0.67      0.63      0.65       138\n",
      "\n",
      "    accuracy                           0.76       398\n",
      "   macro avg       0.74      0.73      0.74       398\n",
      "weighted avg       0.76      0.76      0.76       398\n",
      "\n",
      "Classification Report for Train Set:\n",
      "               precision    recall  f1-score   support\n",
      "\n",
      "           0       0.91      0.99      0.94      1017\n",
      "           1       0.97      0.82      0.89       572\n",
      "\n",
      "    accuracy                           0.93      1589\n",
      "   macro avg       0.94      0.90      0.92      1589\n",
      "weighted avg       0.93      0.93      0.92      1589\n",
      "\n"
     ]
    },
    {
     "data": {
      "text/plain": [
       "DecisionTreeClassifier(random_state=0)"
      ]
     },
     "execution_count": 84,
     "metadata": {},
     "output_type": "execute_result"
    }
   ],
   "source": [
    "run_model(classifier_dt,X_train, X_test, y_train, y_test)"
   ]
  },
  {
   "cell_type": "code",
   "execution_count": 101,
   "metadata": {},
   "outputs": [
    {
     "name": "stdout",
     "output_type": "stream",
     "text": [
      "Confusion Matrix for Test Set:\n",
      " [[229  31]\n",
      " [ 54  84]]\n",
      "Confusion Matrix for Train Set:\n",
      " [[953  64]\n",
      " [163 409]]\n",
      "Classification Report for Test Set:\n",
      "               precision    recall  f1-score   support\n",
      "\n",
      "           0       0.81      0.88      0.84       260\n",
      "           1       0.73      0.61      0.66       138\n",
      "\n",
      "    accuracy                           0.79       398\n",
      "   macro avg       0.77      0.74      0.75       398\n",
      "weighted avg       0.78      0.79      0.78       398\n",
      "\n",
      "Classification Report for Train Set:\n",
      "               precision    recall  f1-score   support\n",
      "\n",
      "           0       0.85      0.94      0.89      1017\n",
      "           1       0.86      0.72      0.78       572\n",
      "\n",
      "    accuracy                           0.86      1589\n",
      "   macro avg       0.86      0.83      0.84      1589\n",
      "weighted avg       0.86      0.86      0.85      1589\n",
      "\n"
     ]
    },
    {
     "data": {
      "text/plain": [
       "KNeighborsClassifier(n_neighbors=3)"
      ]
     },
     "execution_count": 101,
     "metadata": {},
     "output_type": "execute_result"
    }
   ],
   "source": [
    "run_model(classifier_knn,X_train, X_test, y_train, y_test)"
   ]
  },
  {
   "cell_type": "code",
   "execution_count": null,
   "metadata": {},
   "outputs": [],
   "source": []
  },
  {
   "cell_type": "code",
   "execution_count": null,
   "metadata": {},
   "outputs": [],
   "source": []
  }
 ],
 "metadata": {
  "kernelspec": {
   "display_name": "Python 3",
   "language": "python",
   "name": "python3"
  },
  "language_info": {
   "codemirror_mode": {
    "name": "ipython",
    "version": 3
   },
   "file_extension": ".py",
   "mimetype": "text/x-python",
   "name": "python",
   "nbconvert_exporter": "python",
   "pygments_lexer": "ipython3",
   "version": "3.8.5"
  }
 },
 "nbformat": 4,
 "nbformat_minor": 4
}
